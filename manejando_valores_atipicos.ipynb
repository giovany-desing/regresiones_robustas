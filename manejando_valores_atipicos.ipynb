{
 "cells": [
  {
   "cell_type": "markdown",
   "metadata": {},
   "source": [
    "# Regresiones Robustas para el manejo de valores atipicos"
   ]
  },
  {
   "cell_type": "markdown",
   "metadata": {},
   "source": [
    "Sci-kitlearn nos ofrece algunos modelos especificos para abordar el problema de los valores atipicos\n",
    "\n",
    "* RANSAC\n",
    "* Huber regressor"
   ]
  },
  {
   "cell_type": "markdown",
   "metadata": {},
   "source": [
    "RANSAC  selecciona una muestra aleatoria de los datos asumiendo que esa muestra se encuentra dentro de los valores inliners, con estos datos se entrena el modelo y se compara su comportamiento con respecto a los otros datos. Este procedimiento se repite tantas veces como se indique y al finalizar el algoritmo escoge la combinación de datos que tenga la mejor cantidad de inliners, donde los valores atípicos puedan ser discriminados de forma efectiva."
   ]
  },
  {
   "cell_type": "markdown",
   "metadata": {},
   "source": [
    "HUBER REGRESSOR no elimina los valores atípicos sino que los penaliza. Realiza el entrenamiento y si el error absoluto de la perdida alcanza cierto umbral (epsilon) los datos son tratados como atípicos. El valor por defecto de epsilon es 1.35 ya que se ha demostrado que logra un 95% de eficiencia estadística."
   ]
  },
  {
   "cell_type": "markdown",
   "metadata": {},
   "source": [
    "num_features = hearth[['age', 'trestbps', 'thalach', 'oldpeak']]\n",
    "\n",
    "num_features\n",
    "\n",
    "plt.figure(figsize=(10,7))\n",
    "num_features.boxplot(grid=False)"
   ]
  },
  {
   "cell_type": "code",
   "execution_count": 6,
   "metadata": {},
   "outputs": [],
   "source": [
    "import pandas as pd\n",
    "\n",
    "from sklearn.linear_model import (\n",
    "    RANSACRegressor, HuberRegressor\n",
    ")\n",
    "from sklearn.svm import SVR\n",
    "\n",
    "from sklearn.model_selection import train_test_split\n",
    "from sklearn.metrics  import mean_squared_error\n",
    "\n",
    "import warnings\n",
    "warnings.simplefilter(\"ignore\")"
   ]
  },
  {
   "cell_type": "code",
   "execution_count": 7,
   "metadata": {},
   "outputs": [],
   "source": [
    "dataset = pd.read_csv('felicidad_corrupt.csv')"
   ]
  },
  {
   "cell_type": "code",
   "execution_count": 8,
   "metadata": {},
   "outputs": [
    {
     "data": {
      "text/html": [
       "<div>\n",
       "<style scoped>\n",
       "    .dataframe tbody tr th:only-of-type {\n",
       "        vertical-align: middle;\n",
       "    }\n",
       "\n",
       "    .dataframe tbody tr th {\n",
       "        vertical-align: top;\n",
       "    }\n",
       "\n",
       "    .dataframe thead th {\n",
       "        text-align: right;\n",
       "    }\n",
       "</style>\n",
       "<table border=\"1\" class=\"dataframe\">\n",
       "  <thead>\n",
       "    <tr style=\"text-align: right;\">\n",
       "      <th></th>\n",
       "      <th>country</th>\n",
       "      <th>rank</th>\n",
       "      <th>score</th>\n",
       "      <th>high</th>\n",
       "      <th>low</th>\n",
       "      <th>gdp</th>\n",
       "      <th>family</th>\n",
       "      <th>lifexp</th>\n",
       "      <th>freedom</th>\n",
       "      <th>generosity</th>\n",
       "      <th>corruption</th>\n",
       "      <th>dystopia</th>\n",
       "    </tr>\n",
       "  </thead>\n",
       "  <tbody>\n",
       "    <tr>\n",
       "      <th>0</th>\n",
       "      <td>Norway</td>\n",
       "      <td>1</td>\n",
       "      <td>7.537</td>\n",
       "      <td>7.594445</td>\n",
       "      <td>7.479556</td>\n",
       "      <td>1.616463</td>\n",
       "      <td>1.533524</td>\n",
       "      <td>0.796667</td>\n",
       "      <td>0.635423</td>\n",
       "      <td>0.362012</td>\n",
       "      <td>0.315964</td>\n",
       "      <td>2.277027</td>\n",
       "    </tr>\n",
       "    <tr>\n",
       "      <th>1</th>\n",
       "      <td>Denmark</td>\n",
       "      <td>2</td>\n",
       "      <td>7.522</td>\n",
       "      <td>7.581728</td>\n",
       "      <td>7.462272</td>\n",
       "      <td>1.482383</td>\n",
       "      <td>1.551122</td>\n",
       "      <td>0.792566</td>\n",
       "      <td>0.626007</td>\n",
       "      <td>0.355280</td>\n",
       "      <td>0.400770</td>\n",
       "      <td>2.313707</td>\n",
       "    </tr>\n",
       "    <tr>\n",
       "      <th>2</th>\n",
       "      <td>Iceland</td>\n",
       "      <td>3</td>\n",
       "      <td>7.504</td>\n",
       "      <td>7.622030</td>\n",
       "      <td>7.385970</td>\n",
       "      <td>1.480633</td>\n",
       "      <td>1.610574</td>\n",
       "      <td>0.833552</td>\n",
       "      <td>0.627163</td>\n",
       "      <td>0.475540</td>\n",
       "      <td>0.153527</td>\n",
       "      <td>2.322715</td>\n",
       "    </tr>\n",
       "    <tr>\n",
       "      <th>3</th>\n",
       "      <td>Switzerland</td>\n",
       "      <td>4</td>\n",
       "      <td>7.494</td>\n",
       "      <td>7.561772</td>\n",
       "      <td>7.426227</td>\n",
       "      <td>1.564980</td>\n",
       "      <td>1.516912</td>\n",
       "      <td>0.858131</td>\n",
       "      <td>0.620071</td>\n",
       "      <td>0.290549</td>\n",
       "      <td>0.367007</td>\n",
       "      <td>2.276716</td>\n",
       "    </tr>\n",
       "    <tr>\n",
       "      <th>4</th>\n",
       "      <td>Finland</td>\n",
       "      <td>5</td>\n",
       "      <td>7.469</td>\n",
       "      <td>7.527542</td>\n",
       "      <td>7.410458</td>\n",
       "      <td>1.443572</td>\n",
       "      <td>1.540247</td>\n",
       "      <td>0.809158</td>\n",
       "      <td>0.617951</td>\n",
       "      <td>0.245483</td>\n",
       "      <td>0.382612</td>\n",
       "      <td>2.430182</td>\n",
       "    </tr>\n",
       "    <tr>\n",
       "      <th>...</th>\n",
       "      <td>...</td>\n",
       "      <td>...</td>\n",
       "      <td>...</td>\n",
       "      <td>...</td>\n",
       "      <td>...</td>\n",
       "      <td>...</td>\n",
       "      <td>...</td>\n",
       "      <td>...</td>\n",
       "      <td>...</td>\n",
       "      <td>...</td>\n",
       "      <td>...</td>\n",
       "      <td>...</td>\n",
       "    </tr>\n",
       "    <tr>\n",
       "      <th>162</th>\n",
       "      <td>H</td>\n",
       "      <td>163</td>\n",
       "      <td>0.000</td>\n",
       "      <td>0.000000</td>\n",
       "      <td>0.000000</td>\n",
       "      <td>0.000000</td>\n",
       "      <td>0.000000</td>\n",
       "      <td>0.000000</td>\n",
       "      <td>0.000000</td>\n",
       "      <td>0.000000</td>\n",
       "      <td>0.000000</td>\n",
       "      <td>0.000000</td>\n",
       "    </tr>\n",
       "    <tr>\n",
       "      <th>163</th>\n",
       "      <td>I</td>\n",
       "      <td>164</td>\n",
       "      <td>0.000</td>\n",
       "      <td>0.000000</td>\n",
       "      <td>0.000000</td>\n",
       "      <td>0.000000</td>\n",
       "      <td>0.000000</td>\n",
       "      <td>0.000000</td>\n",
       "      <td>0.000000</td>\n",
       "      <td>0.000000</td>\n",
       "      <td>0.000000</td>\n",
       "      <td>0.000000</td>\n",
       "    </tr>\n",
       "    <tr>\n",
       "      <th>164</th>\n",
       "      <td>J</td>\n",
       "      <td>165</td>\n",
       "      <td>0.000</td>\n",
       "      <td>0.000000</td>\n",
       "      <td>0.000000</td>\n",
       "      <td>0.000000</td>\n",
       "      <td>0.000000</td>\n",
       "      <td>0.000000</td>\n",
       "      <td>0.000000</td>\n",
       "      <td>0.000000</td>\n",
       "      <td>0.000000</td>\n",
       "      <td>0.000000</td>\n",
       "    </tr>\n",
       "    <tr>\n",
       "      <th>165</th>\n",
       "      <td>K</td>\n",
       "      <td>166</td>\n",
       "      <td>0.000</td>\n",
       "      <td>0.000000</td>\n",
       "      <td>0.000000</td>\n",
       "      <td>0.000000</td>\n",
       "      <td>0.000000</td>\n",
       "      <td>0.000000</td>\n",
       "      <td>0.000000</td>\n",
       "      <td>0.000000</td>\n",
       "      <td>0.000000</td>\n",
       "      <td>0.000000</td>\n",
       "    </tr>\n",
       "    <tr>\n",
       "      <th>166</th>\n",
       "      <td>L</td>\n",
       "      <td>167</td>\n",
       "      <td>0.000</td>\n",
       "      <td>0.000000</td>\n",
       "      <td>0.000000</td>\n",
       "      <td>0.000000</td>\n",
       "      <td>0.000000</td>\n",
       "      <td>0.000000</td>\n",
       "      <td>0.000000</td>\n",
       "      <td>0.000000</td>\n",
       "      <td>0.000000</td>\n",
       "      <td>0.000000</td>\n",
       "    </tr>\n",
       "  </tbody>\n",
       "</table>\n",
       "<p>167 rows × 12 columns</p>\n",
       "</div>"
      ],
      "text/plain": [
       "         country  rank  score      high       low       gdp    family  \\\n",
       "0         Norway     1  7.537  7.594445  7.479556  1.616463  1.533524   \n",
       "1        Denmark     2  7.522  7.581728  7.462272  1.482383  1.551122   \n",
       "2        Iceland     3  7.504  7.622030  7.385970  1.480633  1.610574   \n",
       "3    Switzerland     4  7.494  7.561772  7.426227  1.564980  1.516912   \n",
       "4        Finland     5  7.469  7.527542  7.410458  1.443572  1.540247   \n",
       "..           ...   ...    ...       ...       ...       ...       ...   \n",
       "162            H   163  0.000  0.000000  0.000000  0.000000  0.000000   \n",
       "163            I   164  0.000  0.000000  0.000000  0.000000  0.000000   \n",
       "164            J   165  0.000  0.000000  0.000000  0.000000  0.000000   \n",
       "165            K   166  0.000  0.000000  0.000000  0.000000  0.000000   \n",
       "166            L   167  0.000  0.000000  0.000000  0.000000  0.000000   \n",
       "\n",
       "       lifexp   freedom  generosity  corruption  dystopia  \n",
       "0    0.796667  0.635423    0.362012    0.315964  2.277027  \n",
       "1    0.792566  0.626007    0.355280    0.400770  2.313707  \n",
       "2    0.833552  0.627163    0.475540    0.153527  2.322715  \n",
       "3    0.858131  0.620071    0.290549    0.367007  2.276716  \n",
       "4    0.809158  0.617951    0.245483    0.382612  2.430182  \n",
       "..        ...       ...         ...         ...       ...  \n",
       "162  0.000000  0.000000    0.000000    0.000000  0.000000  \n",
       "163  0.000000  0.000000    0.000000    0.000000  0.000000  \n",
       "164  0.000000  0.000000    0.000000    0.000000  0.000000  \n",
       "165  0.000000  0.000000    0.000000    0.000000  0.000000  \n",
       "166  0.000000  0.000000    0.000000    0.000000  0.000000  \n",
       "\n",
       "[167 rows x 12 columns]"
      ]
     },
     "execution_count": 8,
     "metadata": {},
     "output_type": "execute_result"
    }
   ],
   "source": [
    "dataset"
   ]
  },
  {
   "cell_type": "code",
   "execution_count": 9,
   "metadata": {},
   "outputs": [],
   "source": [
    "X = dataset.drop(['country', 'score'], axis=1)\n",
    "y = dataset[['score']]"
   ]
  },
  {
   "cell_type": "code",
   "execution_count": 10,
   "metadata": {},
   "outputs": [],
   "source": [
    "X_train, X_test, y_train, y_test = train_test_split(X,y, test_size=0.3, random_state=42)"
   ]
  },
  {
   "cell_type": "code",
   "execution_count": 11,
   "metadata": {},
   "outputs": [],
   "source": [
    "estimadores = {\n",
    "        'SVR' : SVR(gamma = 'auto', C=1.0, epsilon=0.1),\n",
    "        'RANSAC' : RANSACRegressor(),\n",
    "        'HUBER' : HuberRegressor(epsilon=1.35)\n",
    "    }"
   ]
  },
  {
   "cell_type": "code",
   "execution_count": 12,
   "metadata": {},
   "outputs": [
    {
     "name": "stdout",
     "output_type": "stream",
     "text": [
      "================================================================\n",
      "SVR\n",
      "MSE:  0.0745577130188853\n",
      "Score 0.9664741348572501\n",
      "================================================================\n",
      "RANSAC\n",
      "MSE:  1.2756419071796449e-19\n",
      "Score 1.0\n",
      "================================================================\n",
      "HUBER\n",
      "MSE:  1.784893561847613e-06\n",
      "Score 0.999999197398922\n"
     ]
    }
   ],
   "source": [
    "for name, estimator in estimadores.items():\n",
    "        estimator.fit(X_train, y_train)\n",
    "        predictions = estimator.predict(X_test)\n",
    "        print(\"=\"*64)\n",
    "        print(name)\n",
    "        print(\"MSE: \", mean_squared_error(y_test, predictions))\n",
    "        print(\"Score\", estimator.score(X_test, y_test))\n"
   ]
  },
  {
   "cell_type": "code",
   "execution_count": 13,
   "metadata": {},
   "outputs": [
    {
     "data": {
      "text/plain": [
       "array([4.80352667e+00, 4.64317664e+00, 5.27131183e+00, 5.82564151e+00,\n",
       "       4.96262697e+00, 6.45313032e+00, 4.71183651e+00, 5.23645758e+00,\n",
       "       4.71182404e+00, 4.60706212e+00, 6.65375193e+00, 6.07266570e+00,\n",
       "       6.94979800e+00, 5.52547596e+00, 6.57892608e+00, 6.42667353e+00,\n",
       "       4.08119736e+00, 5.90198139e+00, 1.40860579e-03, 6.88979269e+00,\n",
       "       5.29345843e+00, 6.71368995e+00, 7.00552042e+00, 7.28334893e+00,\n",
       "       4.03138180e+00, 5.31314624e+00, 3.93670950e+00, 5.80874202e+00,\n",
       "       5.83970929e+00, 3.53348401e+00, 6.44078640e+00, 3.76280126e+00,\n",
       "       4.37433295e+00, 3.50624044e+00, 1.51674186e-03, 7.50542434e+00,\n",
       "       4.82832959e+00, 4.18900338e+00, 5.49898025e+00, 4.09410440e+00,\n",
       "       5.97280310e+00, 6.52761941e+00, 3.64294193e+00, 5.22865321e+00,\n",
       "       5.00965136e+00, 5.07611231e+00, 6.34292165e+00, 4.45954404e+00,\n",
       "       6.60957049e+00, 4.43862787e+00, 3.97064780e+00])"
      ]
     },
     "execution_count": 13,
     "metadata": {},
     "output_type": "execute_result"
    }
   ],
   "source": [
    "predictions"
   ]
  },
  {
   "cell_type": "code",
   "execution_count": 14,
   "metadata": {},
   "outputs": [
    {
     "name": "stdout",
     "output_type": "stream",
     "text": [
      "================================\n",
      "SVR\n"
     ]
    },
    {
     "data": {
      "image/png": "[encoded data removed]",
      "text/plain": [
       "<Figure size 432x288 with 1 Axes>"
      ]
     },
     "metadata": {
      "needs_background": "light"
     },
     "output_type": "display_data"
    },
    {
     "name": "stdout",
     "output_type": "stream",
     "text": [
      "================================\n",
      "RANSAC\n"
     ]
    },
    {
     "data": {
      "image/png": "[encoded data removed]",
      "text/plain": [
       "<Figure size 432x288 with 1 Axes>"
      ]
     },
     "metadata": {
      "needs_background": "light"
     },
     "output_type": "display_data"
    },
    {
     "name": "stdout",
     "output_type": "stream",
     "text": [
      "================================\n",
      "HUBER\n"
     ]
    },
    {
     "data": {
      "image/png": "[encoded data removed]",
      "text/plain": [
       "<Figure size 432x288 with 1 Axes>"
      ]
     },
     "metadata": {
      "needs_background": "light"
     },
     "output_type": "display_data"
    }
   ],
   "source": [
    "import matplotlib.pyplot as plt\n",
    "\n",
    "for name, estimador in estimadores.items():\n",
    "    estimador.fit(X_train, y_train)\n",
    "    predictions = estimador.predict(X_test)\n",
    "    print(\"=\" * 32)\n",
    "    print(name)\n",
    "    plt.ylabel('Predicted Score')\n",
    "    plt.xlabel('Real Score')\n",
    "    plt.title('Predicted VS Real')\n",
    "    plt.scatter(y_test, predictions)\n",
    "    plt.plot(predictions, predictions,'r--')\n",
    "    plt.show()"
   ]
  },
  {
   "cell_type": "code",
   "execution_count": null,
   "metadata": {},
   "outputs": [],
   "source": []
  },
  {
   "cell_type": "code",
   "execution_count": null,
   "metadata": {},
   "outputs": [],
   "source": []
  }
 ],
 "metadata": {
  "kernelspec": {
   "display_name": "Python 3",
   "language": "python",
   "name": "python3"
  },
  "language_info": {
   "codemirror_mode": {
    "name": "ipython",
    "version": 3
   },
   "file_extension": ".py",
   "mimetype": "text/x-python",
   "name": "python",
   "nbconvert_exporter": "python",
   "pygments_lexer": "ipython3",
   "version": "3.8.5"
  }
 },
 "nbformat": 4,
 "nbformat_minor": 4
}
